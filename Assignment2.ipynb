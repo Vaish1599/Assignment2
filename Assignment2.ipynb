{
 "cells": [
  {
   "cell_type": "raw",
   "id": "93535bbb-a334-4978-878a-7a2bb8d7e8e6",
   "metadata": {},
   "source": [
    "#Q1\n",
    "In Python, you can add comments to your code to provide explanations, documentations, or to temporarily disable specific lines of code. Comments are ignored by the Python interpreter and do not affect the execution of the program.\n",
    "\n",
    "There are two types of comments in Python:\n",
    "\n",
    "1.Single-line comments:\n",
    "\n",
    "Single-line comments start with the hash character (#) and continue until the end of the line.\n",
    "Single-line comments are typically used to provide short descriptions or clarifications for a specific line of code.\n",
    "\n",
    "2.Multi-line comments (Docstrings):\n",
    "\n",
    "Multi-line comments or docstrings are used for documenting functions, classes, modules, or large blocks of code.\n",
    "Multi-line comments are enclosed in triple quotes (\"\"\" or ''') and can span multiple lines.\n",
    "Docstrings have special significance in Python and can be accessed using the __doc__ attribute of an object."
   ]
  },
  {
   "cell_type": "raw",
   "id": "d50c3d0f-d325-40d7-b7bf-bdc206b4c406",
   "metadata": {},
   "source": [
    "#Q2\n",
    "In Python, variables are used to store data values. They act as placeholders to store and refer to different types of data, such as numbers, strings, lists, or more complex objects. Variables allow us to manipulate and work with data within a program.\n",
    "\n",
    "To declare and assign values to variables in Python, you simply need to choose a variable name and use the assignment operator (=) to assign a value to it. Here's the general syntax:variable_name = value\n",
    "\n",
    "The variable_name is the name you choose for your variable. It should follow certain naming rules, such as starting with a letter or underscore and consisting of letters, digits, or underscores.\n",
    "The = operator is used to assign a value to the variable.\n",
    "The value can be any valid Python expression or data type that you want to assign to the variable."
   ]
  },
  {
   "cell_type": "code",
   "execution_count": null,
   "id": "7b601901-06ee-4e5b-b2b1-e6d7dc81143a",
   "metadata": {},
   "outputs": [],
   "source": [
    "#Q3\n",
    "In Python, you can convert one data type to another using type conversion functions or techniques specific to each data type. Here are some common ways to perform type conversion in Python:\n",
    "\n",
    "Using type conversion functions:\n",
    "int(): Converts a value to an integer.\n",
    "float(): Converts a value to a floating-point number.\n",
    "str(): Converts a value to a string.\n",
    "list(): Converts a value to a list.\n",
    "tuple(): Converts a value to a tuple.\n",
    "dict(): Converts a value to a dictionary.\n",
    "\n",
    "Using specific methods or operations:\n",
    "str(): Used to convert a value to a string by calling the str() method or using string concatenation.\n",
    "split(): Splits a string into a list using a specified delimiter.\n",
    "join(): Joins the elements of a list into a single string using a specified delimiter.\n",
    "Arithmetic operations: By performing arithmetic operations, you can implicitly convert between numeric data types (e.g., int to float).\n"
   ]
  },
  {
   "cell_type": "code",
   "execution_count": null,
   "id": "a03e25bb-5d60-4fba-be0e-439a8b09a32f",
   "metadata": {},
   "outputs": [],
   "source": [
    "#Q4\n",
    "To write and execute a Python script from the command line, follow these steps:\n",
    "\n",
    "Open a text editor and create a new file. Save the file with a .py extension, which indicates that it's a Python script. For example, you can name the file script.py.\n",
    "\n",
    "In the text editor, write your Python code in the file. For demonstration purposes, let's use a simple \"Hello, World!\" example:print(\"Hello, World!\")\n",
    "\n",
    "Save the file after writing your code.\n",
    "\n",
    "Open a command prompt or terminal window.\n",
    "\n",
    "Navigate to the directory where you saved your Python script using the cd command. For example, if the script is saved in the Documents folder, you can use the following command: cd Documents\n",
    "\n",
    "Once you are in the correct directory, you can execute the Python script using the python command followed by the name of the script file. In this case, you would use: python script.py\n",
    "\n",
    "This command tells the Python interpreter to execute the code in the script.py file.\n",
    "\n",
    "Press Enter to execute the command. The output of the script will be displayed in the command prompt or terminal window. In this case, you should see:Hello, World!\n",
    "\n"
   ]
  },
  {
   "cell_type": "code",
   "execution_count": 2,
   "id": "9483e9e1-06ad-49cd-b5c0-722943dede19",
   "metadata": {},
   "outputs": [
    {
     "name": "stdout",
     "output_type": "stream",
     "text": [
      "[2, 3]\n"
     ]
    }
   ],
   "source": [
    "#Q5 \n",
    "my_list = [1, 2, 3, 4, 5]\n",
    "sub_list = my_list[1:3]\n",
    "print(sub_list)"
   ]
  },
  {
   "cell_type": "raw",
   "id": "2fa2bdb2-1ed2-44a8-828e-6d8d8bb28186",
   "metadata": {},
   "source": [
    "#Q6\n",
    "In mathematics, a complex number is a number that comprises both a real part and an imaginary part. It is represented in the form a + bi, where a represents the real part, b represents the imaginary part, and i represents the imaginary unit (√(-1)).\n",
    "\n",
    "In Python, complex numbers are a built-in data type. They can be represented by using the j or J suffix to denote the imaginary part. The real and imaginary parts are written as floating-point numbers or integers. The syntax to represent a complex number in Python is as follows:complex_num = real_part + imaginary_part * 1j"
   ]
  },
  {
   "cell_type": "raw",
   "id": "b3bbe7d9-9794-4af6-854c-9979a0c82c76",
   "metadata": {},
   "source": [
    "#Q7\n",
    "The correct way to declare a variable named age and assign the value 25 to it in Python is as follows: age = 25"
   ]
  },
  {
   "cell_type": "raw",
   "id": "f7b6e2e7-138e-4b98-88fc-78646a76b40d",
   "metadata": {},
   "source": [
    "#Q8\n",
    "To declare a variable named price and assign the value 9.99 to it, you can use the following code:price = 9.99\n",
    "In this example, price is the variable name, and it is assigned the value 9.99 using the assignment operator (=). The value 9.99 is a decimal number, which in Python is represented as a floating-point number.\n",
    "\n",
    "Therefore, the variable price belongs to the float data type in Python. Floating-point numbers are used to represent real numbers with a fractional part."
   ]
  },
  {
   "cell_type": "raw",
   "id": "7e47be00-cf56-49af-832e-f85db5cbdf08",
   "metadata": {},
   "source": [
    "#Q9\n",
    "To create a variable named name and assign my full name to it as a string, you can use the following code:\n",
    "name = \"Vaishnavi Anil Bhamare\"\n",
    "To print the value of the name variable in Python, you can use the print() function as follows: \n",
    "print(name)"
   ]
  },
  {
   "cell_type": "code",
   "execution_count": 3,
   "id": "20ac88ff-4cc4-41d2-8e48-cf6a7e610a73",
   "metadata": {},
   "outputs": [
    {
     "name": "stdout",
     "output_type": "stream",
     "text": [
      "World\n"
     ]
    }
   ],
   "source": [
    "#Q10\n",
    "#To extract the substring \"World\" from given string\n",
    "string = \"Hello, World!\"\n",
    "substring = string[7:12]\n",
    "print(substring)"
   ]
  },
  {
   "cell_type": "code",
   "execution_count": 4,
   "id": "1d1780af-ddc6-496c-81b6-8a3b0ec3bb3e",
   "metadata": {},
   "outputs": [],
   "source": [
    "#Q11\n",
    "#To create a variable named \"is_student\" and assign it a boolean\n",
    "is_student = True"
   ]
  },
  {
   "cell_type": "code",
   "execution_count": 5,
   "id": "1753864d-db80-4143-b075-59711ba91011",
   "metadata": {},
   "outputs": [],
   "source": [
    "#If not currently student assign the value as false\n",
    "is_student = False"
   ]
  },
  {
   "cell_type": "code",
   "execution_count": null,
   "id": "1bb785ea-c57b-413f-942d-28764d12101d",
   "metadata": {},
   "outputs": [],
   "source": []
  }
 ],
 "metadata": {
  "kernelspec": {
   "display_name": "Python 3 (ipykernel)",
   "language": "python",
   "name": "python3"
  },
  "language_info": {
   "codemirror_mode": {
    "name": "ipython",
    "version": 3
   },
   "file_extension": ".py",
   "mimetype": "text/x-python",
   "name": "python",
   "nbconvert_exporter": "python",
   "pygments_lexer": "ipython3",
   "version": "3.10.8"
  }
 },
 "nbformat": 4,
 "nbformat_minor": 5
}
